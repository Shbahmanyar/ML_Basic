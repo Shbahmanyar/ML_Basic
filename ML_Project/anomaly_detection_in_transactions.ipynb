{
 "cells": [
  {
   "cell_type": "markdown",
   "metadata": {},
   "source": [
    "Anomaly Detection in Transactions\n",
    "\n",
    "Anomaly detection plays a crucial role in various businesses, especially those dealing with financial transactions, online activities, and security-sensitive operations.\n",
    "\n",
    "We can follow a systematic process to address the challenge of anomaly detection. We can begin by collecting and preparing transaction data, ensuring its accuracy and consistency. Then, we can find patterns in the data to find anomalies and use specialized anomaly detection algorithms like isolation forest to detect anomalies."
   ]
  },
  {
   "cell_type": "code",
   "execution_count": 2,
   "metadata": {},
   "outputs": [],
   "source": [
    "import pandas as pd\n",
    "import matplotlib.pyplot as plt\n",
    "import seaborn as sns\n",
    "import matplotlib.pyplot as plt \n",
    "from sklearn.model_selection import train_test_split\n",
    "from sklearn.ensemble import IsolationForest\n",
    "from sklearn.metrics import classification_report"
   ]
  },
  {
   "cell_type": "code",
   "execution_count": 3,
   "metadata": {},
   "outputs": [],
   "source": [
    "df = pd.read_csv ('/Users/macbookpro/Desktop/Git/ML_Project/transaction_anomalies_dataset.csv')"
   ]
  },
  {
   "cell_type": "code",
   "execution_count": 4,
   "metadata": {},
   "outputs": [
    {
     "data": {
      "text/plain": [
       "Transaction_ID                 0\n",
       "Transaction_Amount             0\n",
       "Transaction_Volume             0\n",
       "Average_Transaction_Amount     0\n",
       "Frequency_of_Transactions      0\n",
       "Time_Since_Last_Transaction    0\n",
       "Day_of_Week                    0\n",
       "Time_of_Day                    0\n",
       "Age                            0\n",
       "Gender                         0\n",
       "Income                         0\n",
       "Account_Type                   0\n",
       "dtype: int64"
      ]
     },
     "execution_count": 4,
     "metadata": {},
     "output_type": "execute_result"
    }
   ],
   "source": [
    "df.isnull().sum()"
   ]
  },
  {
   "cell_type": "code",
   "execution_count": 5,
   "metadata": {},
   "outputs": [
    {
     "name": "stdout",
     "output_type": "stream",
     "text": [
      "<class 'pandas.core.frame.DataFrame'>\n",
      "RangeIndex: 1000 entries, 0 to 999\n",
      "Data columns (total 12 columns):\n",
      " #   Column                       Non-Null Count  Dtype  \n",
      "---  ------                       --------------  -----  \n",
      " 0   Transaction_ID               1000 non-null   object \n",
      " 1   Transaction_Amount           1000 non-null   float64\n",
      " 2   Transaction_Volume           1000 non-null   int64  \n",
      " 3   Average_Transaction_Amount   1000 non-null   float64\n",
      " 4   Frequency_of_Transactions    1000 non-null   int64  \n",
      " 5   Time_Since_Last_Transaction  1000 non-null   int64  \n",
      " 6   Day_of_Week                  1000 non-null   object \n",
      " 7   Time_of_Day                  1000 non-null   object \n",
      " 8   Age                          1000 non-null   int64  \n",
      " 9   Gender                       1000 non-null   object \n",
      " 10  Income                       1000 non-null   int64  \n",
      " 11  Account_Type                 1000 non-null   object \n",
      "dtypes: float64(2), int64(5), object(5)\n",
      "memory usage: 93.9+ KB\n"
     ]
    }
   ],
   "source": [
    "df.info()"
   ]
  },
  {
   "cell_type": "code",
   "execution_count": 6,
   "metadata": {},
   "outputs": [
    {
     "data": {
      "text/html": [
       "<div>\n",
       "<style scoped>\n",
       "    .dataframe tbody tr th:only-of-type {\n",
       "        vertical-align: middle;\n",
       "    }\n",
       "\n",
       "    .dataframe tbody tr th {\n",
       "        vertical-align: top;\n",
       "    }\n",
       "\n",
       "    .dataframe thead th {\n",
       "        text-align: right;\n",
       "    }\n",
       "</style>\n",
       "<table border=\"1\" class=\"dataframe\">\n",
       "  <thead>\n",
       "    <tr style=\"text-align: right;\">\n",
       "      <th></th>\n",
       "      <th>Transaction_ID</th>\n",
       "      <th>Transaction_Amount</th>\n",
       "      <th>Transaction_Volume</th>\n",
       "      <th>Average_Transaction_Amount</th>\n",
       "      <th>Frequency_of_Transactions</th>\n",
       "      <th>Time_Since_Last_Transaction</th>\n",
       "      <th>Day_of_Week</th>\n",
       "      <th>Time_of_Day</th>\n",
       "      <th>Age</th>\n",
       "      <th>Gender</th>\n",
       "      <th>Income</th>\n",
       "      <th>Account_Type</th>\n",
       "    </tr>\n",
       "  </thead>\n",
       "  <tbody>\n",
       "    <tr>\n",
       "      <th>0</th>\n",
       "      <td>TX0</td>\n",
       "      <td>1024.835708</td>\n",
       "      <td>3</td>\n",
       "      <td>997.234714</td>\n",
       "      <td>12</td>\n",
       "      <td>29</td>\n",
       "      <td>Friday</td>\n",
       "      <td>06:00</td>\n",
       "      <td>36</td>\n",
       "      <td>Male</td>\n",
       "      <td>1436074</td>\n",
       "      <td>Savings</td>\n",
       "    </tr>\n",
       "    <tr>\n",
       "      <th>1</th>\n",
       "      <td>TX1</td>\n",
       "      <td>1013.952065</td>\n",
       "      <td>4</td>\n",
       "      <td>1020.210306</td>\n",
       "      <td>7</td>\n",
       "      <td>22</td>\n",
       "      <td>Friday</td>\n",
       "      <td>01:00</td>\n",
       "      <td>41</td>\n",
       "      <td>Female</td>\n",
       "      <td>627069</td>\n",
       "      <td>Savings</td>\n",
       "    </tr>\n",
       "    <tr>\n",
       "      <th>2</th>\n",
       "      <td>TX2</td>\n",
       "      <td>970.956093</td>\n",
       "      <td>1</td>\n",
       "      <td>989.496604</td>\n",
       "      <td>5</td>\n",
       "      <td>12</td>\n",
       "      <td>Tuesday</td>\n",
       "      <td>21:00</td>\n",
       "      <td>61</td>\n",
       "      <td>Male</td>\n",
       "      <td>786232</td>\n",
       "      <td>Savings</td>\n",
       "    </tr>\n",
       "    <tr>\n",
       "      <th>3</th>\n",
       "      <td>TX3</td>\n",
       "      <td>1040.822254</td>\n",
       "      <td>2</td>\n",
       "      <td>969.522480</td>\n",
       "      <td>16</td>\n",
       "      <td>28</td>\n",
       "      <td>Sunday</td>\n",
       "      <td>14:00</td>\n",
       "      <td>61</td>\n",
       "      <td>Male</td>\n",
       "      <td>619030</td>\n",
       "      <td>Savings</td>\n",
       "    </tr>\n",
       "    <tr>\n",
       "      <th>4</th>\n",
       "      <td>TX4</td>\n",
       "      <td>998.777241</td>\n",
       "      <td>1</td>\n",
       "      <td>1007.111026</td>\n",
       "      <td>7</td>\n",
       "      <td>7</td>\n",
       "      <td>Friday</td>\n",
       "      <td>08:00</td>\n",
       "      <td>56</td>\n",
       "      <td>Female</td>\n",
       "      <td>649457</td>\n",
       "      <td>Savings</td>\n",
       "    </tr>\n",
       "  </tbody>\n",
       "</table>\n",
       "</div>"
      ],
      "text/plain": [
       "  Transaction_ID  Transaction_Amount  Transaction_Volume  \\\n",
       "0            TX0         1024.835708                   3   \n",
       "1            TX1         1013.952065                   4   \n",
       "2            TX2          970.956093                   1   \n",
       "3            TX3         1040.822254                   2   \n",
       "4            TX4          998.777241                   1   \n",
       "\n",
       "   Average_Transaction_Amount  Frequency_of_Transactions  \\\n",
       "0                  997.234714                         12   \n",
       "1                 1020.210306                          7   \n",
       "2                  989.496604                          5   \n",
       "3                  969.522480                         16   \n",
       "4                 1007.111026                          7   \n",
       "\n",
       "   Time_Since_Last_Transaction Day_of_Week Time_of_Day  Age  Gender   Income  \\\n",
       "0                           29      Friday       06:00   36    Male  1436074   \n",
       "1                           22      Friday       01:00   41  Female   627069   \n",
       "2                           12     Tuesday       21:00   61    Male   786232   \n",
       "3                           28      Sunday       14:00   61    Male   619030   \n",
       "4                            7      Friday       08:00   56  Female   649457   \n",
       "\n",
       "  Account_Type  \n",
       "0      Savings  \n",
       "1      Savings  \n",
       "2      Savings  \n",
       "3      Savings  \n",
       "4      Savings  "
      ]
     },
     "execution_count": 6,
     "metadata": {},
     "output_type": "execute_result"
    }
   ],
   "source": [
    "df.head()"
   ]
  },
  {
   "cell_type": "code",
   "execution_count": 7,
   "metadata": {},
   "outputs": [
    {
     "data": {
      "text/html": [
       "<div>\n",
       "<style scoped>\n",
       "    .dataframe tbody tr th:only-of-type {\n",
       "        vertical-align: middle;\n",
       "    }\n",
       "\n",
       "    .dataframe tbody tr th {\n",
       "        vertical-align: top;\n",
       "    }\n",
       "\n",
       "    .dataframe thead th {\n",
       "        text-align: right;\n",
       "    }\n",
       "</style>\n",
       "<table border=\"1\" class=\"dataframe\">\n",
       "  <thead>\n",
       "    <tr style=\"text-align: right;\">\n",
       "      <th></th>\n",
       "      <th>Transaction_Amount</th>\n",
       "      <th>Transaction_Volume</th>\n",
       "      <th>Average_Transaction_Amount</th>\n",
       "      <th>Frequency_of_Transactions</th>\n",
       "      <th>Time_Since_Last_Transaction</th>\n",
       "      <th>Age</th>\n",
       "      <th>Income</th>\n",
       "    </tr>\n",
       "  </thead>\n",
       "  <tbody>\n",
       "    <tr>\n",
       "      <th>count</th>\n",
       "      <td>1000.000000</td>\n",
       "      <td>1000.000000</td>\n",
       "      <td>1000.000000</td>\n",
       "      <td>1000.000000</td>\n",
       "      <td>1000.000000</td>\n",
       "      <td>1000.000000</td>\n",
       "      <td>1.000000e+03</td>\n",
       "    </tr>\n",
       "    <tr>\n",
       "      <th>mean</th>\n",
       "      <td>1038.122511</td>\n",
       "      <td>2.498000</td>\n",
       "      <td>1000.682506</td>\n",
       "      <td>12.078000</td>\n",
       "      <td>15.341000</td>\n",
       "      <td>40.641000</td>\n",
       "      <td>8.948238e+05</td>\n",
       "    </tr>\n",
       "    <tr>\n",
       "      <th>std</th>\n",
       "      <td>283.580055</td>\n",
       "      <td>1.115006</td>\n",
       "      <td>20.632334</td>\n",
       "      <td>4.245225</td>\n",
       "      <td>8.361258</td>\n",
       "      <td>13.819953</td>\n",
       "      <td>3.453562e+05</td>\n",
       "    </tr>\n",
       "    <tr>\n",
       "      <th>min</th>\n",
       "      <td>849.024392</td>\n",
       "      <td>1.000000</td>\n",
       "      <td>939.081423</td>\n",
       "      <td>5.000000</td>\n",
       "      <td>1.000000</td>\n",
       "      <td>18.000000</td>\n",
       "      <td>3.001590e+05</td>\n",
       "    </tr>\n",
       "    <tr>\n",
       "      <th>25%</th>\n",
       "      <td>966.028796</td>\n",
       "      <td>1.000000</td>\n",
       "      <td>986.800556</td>\n",
       "      <td>8.000000</td>\n",
       "      <td>8.000000</td>\n",
       "      <td>29.000000</td>\n",
       "      <td>5.917308e+05</td>\n",
       "    </tr>\n",
       "    <tr>\n",
       "      <th>50%</th>\n",
       "      <td>1002.118678</td>\n",
       "      <td>3.000000</td>\n",
       "      <td>1000.501902</td>\n",
       "      <td>12.000000</td>\n",
       "      <td>16.000000</td>\n",
       "      <td>41.000000</td>\n",
       "      <td>8.876645e+05</td>\n",
       "    </tr>\n",
       "    <tr>\n",
       "      <th>75%</th>\n",
       "      <td>1033.143657</td>\n",
       "      <td>3.000000</td>\n",
       "      <td>1015.155595</td>\n",
       "      <td>16.000000</td>\n",
       "      <td>22.000000</td>\n",
       "      <td>53.000000</td>\n",
       "      <td>1.178102e+06</td>\n",
       "    </tr>\n",
       "    <tr>\n",
       "      <th>max</th>\n",
       "      <td>3227.459108</td>\n",
       "      <td>4.000000</td>\n",
       "      <td>1073.154036</td>\n",
       "      <td>19.000000</td>\n",
       "      <td>29.000000</td>\n",
       "      <td>64.000000</td>\n",
       "      <td>1.499670e+06</td>\n",
       "    </tr>\n",
       "  </tbody>\n",
       "</table>\n",
       "</div>"
      ],
      "text/plain": [
       "       Transaction_Amount  Transaction_Volume  Average_Transaction_Amount  \\\n",
       "count         1000.000000         1000.000000                 1000.000000   \n",
       "mean          1038.122511            2.498000                 1000.682506   \n",
       "std            283.580055            1.115006                   20.632334   \n",
       "min            849.024392            1.000000                  939.081423   \n",
       "25%            966.028796            1.000000                  986.800556   \n",
       "50%           1002.118678            3.000000                 1000.501902   \n",
       "75%           1033.143657            3.000000                 1015.155595   \n",
       "max           3227.459108            4.000000                 1073.154036   \n",
       "\n",
       "       Frequency_of_Transactions  Time_Since_Last_Transaction          Age  \\\n",
       "count                1000.000000                  1000.000000  1000.000000   \n",
       "mean                   12.078000                    15.341000    40.641000   \n",
       "std                     4.245225                     8.361258    13.819953   \n",
       "min                     5.000000                     1.000000    18.000000   \n",
       "25%                     8.000000                     8.000000    29.000000   \n",
       "50%                    12.000000                    16.000000    41.000000   \n",
       "75%                    16.000000                    22.000000    53.000000   \n",
       "max                    19.000000                    29.000000    64.000000   \n",
       "\n",
       "             Income  \n",
       "count  1.000000e+03  \n",
       "mean   8.948238e+05  \n",
       "std    3.453562e+05  \n",
       "min    3.001590e+05  \n",
       "25%    5.917308e+05  \n",
       "50%    8.876645e+05  \n",
       "75%    1.178102e+06  \n",
       "max    1.499670e+06  "
      ]
     },
     "execution_count": 7,
     "metadata": {},
     "output_type": "execute_result"
    }
   ],
   "source": [
    "df.describe()"
   ]
  },
  {
   "cell_type": "code",
   "execution_count": 8,
   "metadata": {},
   "outputs": [
    {
     "data": {
      "image/png": "[encoded data removed]",
      "text/plain": [
       "<Figure size 576x360 with 1 Axes>"
      ]
     },
     "metadata": {
      "needs_background": "light"
     },
     "output_type": "display_data"
    }
   ],
   "source": [
    "#Count the number of transactions for each day of the week\n",
    "day_of_week_counts = df['Day_of_Week'].value_counts().sort_index()\n",
    "\n",
    "plt.figure(figsize=(8, 5))\n",
    "plt.bar(day_of_week_counts.index, day_of_week_counts.values)\n",
    "\n",
    "plt.title('Count of Transactions by Day of the Week')\n",
    "plt.xlabel('Day of the Week')\n",
    "plt.ylabel('Count of Transactions')\n",
    "\n",
    "plt.show()\n"
   ]
  },
  {
   "cell_type": "code",
   "execution_count": 9,
   "metadata": {},
   "outputs": [
    {
     "data": {
      "image/png": "[encoded data removed]",
      "text/plain": [
       "<Figure size 576x432 with 2 Axes>"
      ]
     },
     "metadata": {
      "needs_background": "light"
     },
     "output_type": "display_data"
    }
   ],
   "source": [
    "#Calculate the correlation matrix\n",
    "correlation_matrix = df.corr()\n",
    "\n",
    "plt.figure(figsize=(8, 6))\n",
    "sns.heatmap(correlation_matrix, annot=True, cmap='coolwarm', center=0)\n",
    "\n",
    "plt.title('Correlation Heatmap')\n",
    "\n",
    "plt.show()\n"
   ]
  },
  {
   "cell_type": "code",
   "execution_count": 10,
   "metadata": {},
   "outputs": [],
   "source": [
    "mean_amount = df['Transaction_Amount'].mean()\n",
    "std_amount = df['Transaction_Amount'].std()\n",
    "\n",
    "#Define the anomaly threshold (2 standard deviations from the mean)\n",
    "anomaly_threshold = mean_amount + 2 * std_amount\n",
    "\n",
    "#Define the anomaly threshold (2 standard deviations from the mean)\n",
    "df['Is_Anomaly'] = df['Transaction_Amount'] > anomaly_threshold\n",
    "\n",
    "number_anomaly = df['Is_Anomaly'].sum()\n"
   ]
  },
  {
   "cell_type": "code",
   "execution_count": 11,
   "metadata": {},
   "outputs": [
    {
     "name": "stdout",
     "output_type": "stream",
     "text": [
      "0.02\n"
     ]
    }
   ],
   "source": [
    "#Calculate the total number of instances in the dataset\n",
    "total_instances = df.shape[0]\n",
    "\n",
    "#Calculate the ratio of anomalies\n",
    "anomaly_ratio = number_anomaly / total_instances\n",
    "print(anomaly_ratio)"
   ]
  },
  {
   "cell_type": "code",
   "execution_count": 12,
   "metadata": {},
   "outputs": [],
   "source": [
    "relevant_features = ['Transaction_Amount',\n",
    "                     'Average_Transaction_Amount',\n",
    "                     'Frequency_of_Transactions']"
   ]
  },
  {
   "cell_type": "code",
   "execution_count": 13,
   "metadata": {},
   "outputs": [
    {
     "name": "stderr",
     "output_type": "stream",
     "text": [
      "/Library/Frameworks/Python.framework/Versions/3.10/lib/python3.10/site-packages/sklearn/base.py:450: UserWarning: X does not have valid feature names, but IsolationForest was fitted with feature names\n",
      "  warnings.warn(\n"
     ]
    },
    {
     "data": {
      "text/html": [
       "<style>#sk-container-id-1 {color: black;background-color: white;}#sk-container-id-1 pre{padding: 0;}#sk-container-id-1 div.sk-toggleable {background-color: white;}#sk-container-id-1 label.sk-toggleable__label {cursor: pointer;display: block;width: 100%;margin-bottom: 0;padding: 0.3em;box-sizing: border-box;text-align: center;}#sk-container-id-1 label.sk-toggleable__label-arrow:before {content: \"▸\";float: left;margin-right: 0.25em;color: #696969;}#sk-container-id-1 label.sk-toggleable__label-arrow:hover:before {color: black;}#sk-container-id-1 div.sk-estimator:hover label.sk-toggleable__label-arrow:before {color: black;}#sk-container-id-1 div.sk-toggleable__content {max-height: 0;max-width: 0;overflow: hidden;text-align: left;background-color: #f0f8ff;}#sk-container-id-1 div.sk-toggleable__content pre {margin: 0.2em;color: black;border-radius: 0.25em;background-color: #f0f8ff;}#sk-container-id-1 input.sk-toggleable__control:checked~div.sk-toggleable__content {max-height: 200px;max-width: 100%;overflow: auto;}#sk-container-id-1 input.sk-toggleable__control:checked~label.sk-toggleable__label-arrow:before {content: \"▾\";}#sk-container-id-1 div.sk-estimator input.sk-toggleable__control:checked~label.sk-toggleable__label {background-color: #d4ebff;}#sk-container-id-1 div.sk-label input.sk-toggleable__control:checked~label.sk-toggleable__label {background-color: #d4ebff;}#sk-container-id-1 input.sk-hidden--visually {border: 0;clip: rect(1px 1px 1px 1px);clip: rect(1px, 1px, 1px, 1px);height: 1px;margin: -1px;overflow: hidden;padding: 0;position: absolute;width: 1px;}#sk-container-id-1 div.sk-estimator {font-family: monospace;background-color: #f0f8ff;border: 1px dotted black;border-radius: 0.25em;box-sizing: border-box;margin-bottom: 0.5em;}#sk-container-id-1 div.sk-estimator:hover {background-color: #d4ebff;}#sk-container-id-1 div.sk-parallel-item::after {content: \"\";width: 100%;border-bottom: 1px solid gray;flex-grow: 1;}#sk-container-id-1 div.sk-label:hover label.sk-toggleable__label {background-color: #d4ebff;}#sk-container-id-1 div.sk-serial::before {content: \"\";position: absolute;border-left: 1px solid gray;box-sizing: border-box;top: 0;bottom: 0;left: 50%;z-index: 0;}#sk-container-id-1 div.sk-serial {display: flex;flex-direction: column;align-items: center;background-color: white;padding-right: 0.2em;padding-left: 0.2em;position: relative;}#sk-container-id-1 div.sk-item {position: relative;z-index: 1;}#sk-container-id-1 div.sk-parallel {display: flex;align-items: stretch;justify-content: center;background-color: white;position: relative;}#sk-container-id-1 div.sk-item::before, #sk-container-id-1 div.sk-parallel-item::before {content: \"\";position: absolute;border-left: 1px solid gray;box-sizing: border-box;top: 0;bottom: 0;left: 50%;z-index: -1;}#sk-container-id-1 div.sk-parallel-item {display: flex;flex-direction: column;z-index: 1;position: relative;background-color: white;}#sk-container-id-1 div.sk-parallel-item:first-child::after {align-self: flex-end;width: 50%;}#sk-container-id-1 div.sk-parallel-item:last-child::after {align-self: flex-start;width: 50%;}#sk-container-id-1 div.sk-parallel-item:only-child::after {width: 0;}#sk-container-id-1 div.sk-dashed-wrapped {border: 1px dashed gray;margin: 0 0.4em 0.5em 0.4em;box-sizing: border-box;padding-bottom: 0.4em;background-color: white;}#sk-container-id-1 div.sk-label label {font-family: monospace;font-weight: bold;display: inline-block;line-height: 1.2em;}#sk-container-id-1 div.sk-label-container {text-align: center;}#sk-container-id-1 div.sk-container {/* jupyter's `normalize.less` sets `[hidden] { display: none; }` but bootstrap.min.css set `[hidden] { display: none !important; }` so we also need the `!important` here to be able to override the default hidden behavior on the sphinx rendered scikit-learn.org. See: https://github.com/scikit-learn/scikit-learn/issues/21755 */display: inline-block !important;position: relative;}#sk-container-id-1 div.sk-text-repr-fallback {display: none;}</style><div id=\"sk-container-id-1\" class=\"sk-top-container\"><div class=\"sk-text-repr-fallback\"><pre>IsolationForest(contamination=0.02, random_state=42)</pre><b>In a Jupyter environment, please rerun this cell to show the HTML representation or trust the notebook. <br />On GitHub, the HTML representation is unable to render, please try loading this page with nbviewer.org.</b></div><div class=\"sk-container\" hidden><div class=\"sk-item\"><div class=\"sk-estimator sk-toggleable\"><input class=\"sk-toggleable__control sk-hidden--visually\" id=\"sk-estimator-id-1\" type=\"checkbox\" checked><label for=\"sk-estimator-id-1\" class=\"sk-toggleable__label sk-toggleable__label-arrow\">IsolationForest</label><div class=\"sk-toggleable__content\"><pre>IsolationForest(contamination=0.02, random_state=42)</pre></div></div></div></div></div>"
      ],
      "text/plain": [
       "IsolationForest(contamination=0.02, random_state=42)"
      ]
     },
     "execution_count": 13,
     "metadata": {},
     "output_type": "execute_result"
    }
   ],
   "source": [
    "X = df [relevant_features]\n",
    "y = df ['Is_Anomaly']\n",
    "\n",
    "X_train,X_test,y_train,y_test = train_test_split(X,y,test_size=0.2,random_state=42)\n",
    "\n",
    "#Train the Isolation Forest model\n",
    "model = IsolationForest(contamination=0.02, random_state=42)\n",
    "model.fit(X_train)\n"
   ]
  },
  {
   "cell_type": "code",
   "execution_count": 14,
   "metadata": {},
   "outputs": [
    {
     "name": "stdout",
     "output_type": "stream",
     "text": [
      "              precision    recall  f1-score   support\n",
      "\n",
      "      Normal       1.00      1.00      1.00       196\n",
      "     Anomaly       1.00      1.00      1.00         4\n",
      "\n",
      "    accuracy                           1.00       200\n",
      "   macro avg       1.00      1.00      1.00       200\n",
      "weighted avg       1.00      1.00      1.00       200\n",
      "\n"
     ]
    }
   ],
   "source": [
    "y_pred = model.predict(X_test)\n",
    "\n",
    "#Convert predictions to binary values (0: normal, 1: anomaly)\n",
    "y_pred_binary = [1 if pred == -1 else 0 for pred in y_pred]\n",
    "\n",
    "report = classification_report(y_test, y_pred_binary, target_names=['Normal', 'Anomaly'])\n",
    "print(report)"
   ]
  }
 ],
 "metadata": {
  "kernelspec": {
   "display_name": "Python 3",
   "language": "python",
   "name": "python3"
  },
  "language_info": {
   "codemirror_mode": {
    "name": "ipython",
    "version": 3
   },
   "file_extension": ".py",
   "mimetype": "text/x-python",
   "name": "python",
   "nbconvert_exporter": "python",
   "pygments_lexer": "ipython3",
   "version": "3.10.2"
  }
 },
 "nbformat": 4,
 "nbformat_minor": 2
}
